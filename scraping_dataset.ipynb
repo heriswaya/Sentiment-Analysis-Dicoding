{
  "cells": [
    {
      "cell_type": "markdown",
      "id": "ecd44ca3",
      "metadata": {
        "id": "ecd44ca3"
      },
      "source": [
        "# Scaraping Data Komentar Youtube\n",
        "Saya mengambil komentar mengenai trailer anime Solo Leveling di youtube. Video tersebut di upload 2 tahun yang lalu oleh `Crunchyroll` di platform youtube."
      ]
    },
    {
      "cell_type": "markdown",
      "source": [
        "https://youtu.be/YvGSK8mIlt8?si=ZCDQdALXNsyU5o2p"
      ],
      "metadata": {
        "id": "AYESvQaW4STb"
      },
      "id": "AYESvQaW4STb"
    },
    {
      "cell_type": "code",
      "source": [
        "!pip install youtube-comment-downloader"
      ],
      "metadata": {
        "id": "Eg4OrJ976N8S",
        "outputId": "ff1b4c7c-9a1a-4efa-ec72-b2931b117288",
        "colab": {
          "base_uri": "https://localhost:8080/"
        }
      },
      "id": "Eg4OrJ976N8S",
      "execution_count": 2,
      "outputs": [
        {
          "output_type": "stream",
          "name": "stdout",
          "text": [
            "Collecting youtube-comment-downloader\n",
            "  Downloading youtube_comment_downloader-0.1.76-py3-none-any.whl.metadata (2.9 kB)\n",
            "Collecting dateparser (from youtube-comment-downloader)\n",
            "  Downloading dateparser-1.2.1-py3-none-any.whl.metadata (29 kB)\n",
            "Requirement already satisfied: requests in /usr/local/lib/python3.11/dist-packages (from youtube-comment-downloader) (2.32.3)\n",
            "Requirement already satisfied: python-dateutil>=2.7.0 in /usr/local/lib/python3.11/dist-packages (from dateparser->youtube-comment-downloader) (2.8.2)\n",
            "Requirement already satisfied: pytz>=2024.2 in /usr/local/lib/python3.11/dist-packages (from dateparser->youtube-comment-downloader) (2025.2)\n",
            "Requirement already satisfied: regex!=2019.02.19,!=2021.8.27,>=2015.06.24 in /usr/local/lib/python3.11/dist-packages (from dateparser->youtube-comment-downloader) (2024.11.6)\n",
            "Requirement already satisfied: tzlocal>=0.2 in /usr/local/lib/python3.11/dist-packages (from dateparser->youtube-comment-downloader) (5.3.1)\n",
            "Requirement already satisfied: charset-normalizer<4,>=2 in /usr/local/lib/python3.11/dist-packages (from requests->youtube-comment-downloader) (3.4.1)\n",
            "Requirement already satisfied: idna<4,>=2.5 in /usr/local/lib/python3.11/dist-packages (from requests->youtube-comment-downloader) (3.10)\n",
            "Requirement already satisfied: urllib3<3,>=1.21.1 in /usr/local/lib/python3.11/dist-packages (from requests->youtube-comment-downloader) (2.3.0)\n",
            "Requirement already satisfied: certifi>=2017.4.17 in /usr/local/lib/python3.11/dist-packages (from requests->youtube-comment-downloader) (2025.1.31)\n",
            "Requirement already satisfied: six>=1.5 in /usr/local/lib/python3.11/dist-packages (from python-dateutil>=2.7.0->dateparser->youtube-comment-downloader) (1.17.0)\n",
            "Downloading youtube_comment_downloader-0.1.76-py3-none-any.whl (8.2 kB)\n",
            "Downloading dateparser-1.2.1-py3-none-any.whl (295 kB)\n",
            "\u001b[2K   \u001b[90m━━━━━━━━━━━━━━━━━━━━━━━━━━━━━━━━━━━━━━━━\u001b[0m \u001b[32m295.7/295.7 kB\u001b[0m \u001b[31m7.8 MB/s\u001b[0m eta \u001b[36m0:00:00\u001b[0m\n",
            "\u001b[?25hInstalling collected packages: dateparser, youtube-comment-downloader\n",
            "Successfully installed dateparser-1.2.1 youtube-comment-downloader-0.1.76\n"
          ]
        }
      ]
    },
    {
      "cell_type": "code",
      "source": [
        "# Import Library\n",
        "from youtube_comment_downloader import YoutubeCommentDownloader\n",
        "import pandas as pd"
      ],
      "metadata": {
        "id": "U873DfiG5raL"
      },
      "id": "U873DfiG5raL",
      "execution_count": 3,
      "outputs": []
    },
    {
      "cell_type": "code",
      "execution_count": 5,
      "id": "31015420",
      "metadata": {
        "vscode": {
          "languageId": "plaintext"
        },
        "id": "31015420",
        "outputId": "46365d49-f420-4c2e-c063-fb5ed8b9bf10",
        "colab": {
          "base_uri": "https://localhost:8080/"
        }
      },
      "outputs": [
        {
          "output_type": "stream",
          "name": "stdout",
          "text": [
            "Mulai mengunduh komentar...\n"
          ]
        }
      ],
      "source": [
        "# Link video\n",
        "video_url = 'https://youtu.be/YvGSK8mIlt8?si=ZCDQdALXNsyU5o2p'\n",
        "\n",
        "# Extract video ID\n",
        "import re\n",
        "video_id = re.search(r'v=|be\\/([a-zA-Z0-9_-]{11})', video_url)\n",
        "if video_id:\n",
        "    video_id = video_url.split(\"/\")[-1].split(\"?\")[0]\n",
        "else:\n",
        "    raise ValueError(\"URL video tidak valid.\")\n",
        "\n",
        "downloader = YoutubeCommentDownloader()\n",
        "comments = []\n",
        "print(\"Mulai mengunduh komentar...\")\n",
        "\n",
        "for comment in downloader.get_comments_from_url(f'https://www.youtube.com/watch?v={video_id}', sort_by=0):  # 0 = Top Comments\n",
        "    comments.append(comment['text'])"
      ]
    },
    {
      "cell_type": "code",
      "source": [
        "# Simpan ke CSV\n",
        "df = pd.DataFrame(comments, columns=[\"comment\"])\n",
        "df.to_csv(\"youtube_comments_solo_leveling.csv\", index=False)\n",
        "print(\"Selesai! Komentar disimpan di 'youtube_comments_solo_leveling.csv'\")"
      ],
      "metadata": {
        "id": "-9MlZbbW5pMz",
        "outputId": "ff1e0d09-cc30-4211-9502-23c29aa074bf",
        "colab": {
          "base_uri": "https://localhost:8080/"
        }
      },
      "id": "-9MlZbbW5pMz",
      "execution_count": 6,
      "outputs": [
        {
          "output_type": "stream",
          "name": "stdout",
          "text": [
            "Selesai! Komentar disimpan di 'youtube_comments_solo_leveling.csv'\n"
          ]
        }
      ]
    }
  ],
  "metadata": {
    "language_info": {
      "name": "python"
    },
    "colab": {
      "provenance": []
    },
    "kernelspec": {
      "name": "python3",
      "display_name": "Python 3"
    }
  },
  "nbformat": 4,
  "nbformat_minor": 5
}