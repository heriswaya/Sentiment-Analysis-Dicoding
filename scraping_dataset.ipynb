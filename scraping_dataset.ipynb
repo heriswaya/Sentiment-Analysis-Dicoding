{
  "cells": [
    {
      "cell_type": "markdown",
      "id": "ecd44ca3",
      "metadata": {
        "id": "ecd44ca3"
      },
      "source": [
        "# Scaraping Ulasan Aplikasi\n",
        "Saya mengambil ulasan aplikasi Alibaba di google play store.<br>\n",
        "Alibaba.com - Pasar B2B"
      ]
    },
    {
      "cell_type": "code",
      "source": [
        "!pip install google-play-scraper"
      ],
      "metadata": {
        "colab": {
          "base_uri": "https://localhost:8080/"
        },
        "id": "Eg4OrJ976N8S",
        "outputId": "e8f917c1-6436-40a4-ddba-35149c5b99c2"
      },
      "id": "Eg4OrJ976N8S",
      "execution_count": 7,
      "outputs": [
        {
          "output_type": "stream",
          "name": "stdout",
          "text": [
            "Collecting google-play-scraper\n",
            "  Downloading google_play_scraper-1.2.7-py3-none-any.whl.metadata (50 kB)\n",
            "\u001b[?25l     \u001b[90m━━━━━━━━━━━━━━━━━━━━━━━━━━━━━━━━━━━━━━━━\u001b[0m \u001b[32m0.0/50.2 kB\u001b[0m \u001b[31m?\u001b[0m eta \u001b[36m-:--:--\u001b[0m\r\u001b[2K     \u001b[90m━━━━━━━━━━━━━━━━━━━━━━━━━━━━━━━━━━━━━━━━\u001b[0m \u001b[32m50.2/50.2 kB\u001b[0m \u001b[31m2.5 MB/s\u001b[0m eta \u001b[36m0:00:00\u001b[0m\n",
            "\u001b[?25hDownloading google_play_scraper-1.2.7-py3-none-any.whl (28 kB)\n",
            "Installing collected packages: google-play-scraper\n",
            "Successfully installed google-play-scraper-1.2.7\n"
          ]
        }
      ]
    },
    {
      "cell_type": "code",
      "source": [
        "# Import Library\n",
        "from google_play_scraper import reviews_all, Sort\n",
        "import csv"
      ],
      "metadata": {
        "id": "U873DfiG5raL"
      },
      "id": "U873DfiG5raL",
      "execution_count": 8,
      "outputs": []
    },
    {
      "cell_type": "code",
      "execution_count": 9,
      "id": "31015420",
      "metadata": {
        "vscode": {
          "languageId": "plaintext"
        },
        "id": "31015420"
      },
      "outputs": [],
      "source": [
        "# Scrape semua review dari aplikasi Alibaba.com (versi internasional)\n",
        "scrapreview = reviews_all(\n",
        "    'com.alibaba.intl.android.apps.poseidon',\n",
        "    lang='en',             # Bahasa ulasan: Inggris\n",
        "    country='us',          # Negara: US\n",
        "    sort=Sort.MOST_RELEVANT,\n",
        "    count=15000            # Ambil hingga 15.000 ulasan\n",
        ")"
      ]
    },
    {
      "cell_type": "code",
      "source": [
        "# Simpan ulasan ke CSV\n",
        "with open('alibaba_reviews_en.csv', mode='w', newline='', encoding='utf-8') as file:\n",
        "    writer = csv.writer(file)\n",
        "    writer.writerow(['Review'])  # Header kolom\n",
        "    for review in scrapreview:\n",
        "        writer.writerow([review['content']])  # Tulis isi ulasan"
      ],
      "metadata": {
        "id": "-9MlZbbW5pMz"
      },
      "id": "-9MlZbbW5pMz",
      "execution_count": 10,
      "outputs": []
    }
  ],
  "metadata": {
    "language_info": {
      "name": "python"
    },
    "colab": {
      "provenance": []
    },
    "kernelspec": {
      "name": "python3",
      "display_name": "Python 3"
    }
  },
  "nbformat": 4,
  "nbformat_minor": 5
}