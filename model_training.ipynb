{
 "cells": [
  {
   "cell_type": "markdown",
   "id": "74b9ca48",
   "metadata": {},
   "source": [
    "# Scaraping Data Komentar Youtube\n",
    "Saya mengambil komentar mengenai trailer anime Solo Leveling di youtube. Video tersebut di upload 2 tahun yang lalu oleh `Crunchyroll` di platform youtube."
   ]
  },
  {
   "cell_type": "code",
   "execution_count": null,
   "id": "1af0221c",
   "metadata": {
    "vscode": {
     "languageId": "plaintext"
    }
   },
   "outputs": [],
   "source": []
  }
 ],
 "metadata": {
  "language_info": {
   "name": "python"
  }
 },
 "nbformat": 4,
 "nbformat_minor": 5
}
